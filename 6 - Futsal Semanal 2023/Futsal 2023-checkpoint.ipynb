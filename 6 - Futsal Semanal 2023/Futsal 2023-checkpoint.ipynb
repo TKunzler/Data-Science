{
 "cells": [
  {
   "cell_type": "code",
   "execution_count": 63,
   "id": "fdf05aa0",
   "metadata": {},
   "outputs": [],
   "source": [
    "import pandas as pd"
   ]
  },
  {
   "cell_type": "code",
   "execution_count": 64,
   "id": "f6c6bb43",
   "metadata": {},
   "outputs": [],
   "source": [
    "df = pd.read_excel(r'C:\\Users\\thoma\\OneDrive\\Área de Trabalho\\Futebol\\Dados Futebol DataScience.xlsx')"
   ]
  },
  {
   "cell_type": "code",
   "execution_count": 69,
   "id": "71855a3f",
   "metadata": {
    "scrolled": true
   },
   "outputs": [
    {
     "data": {
      "text/html": [
       "<div>\n",
       "<style scoped>\n",
       "    .dataframe tbody tr th:only-of-type {\n",
       "        vertical-align: middle;\n",
       "    }\n",
       "\n",
       "    .dataframe tbody tr th {\n",
       "        vertical-align: top;\n",
       "    }\n",
       "\n",
       "    .dataframe thead th {\n",
       "        text-align: right;\n",
       "    }\n",
       "</style>\n",
       "<table border=\"1\" class=\"dataframe\">\n",
       "  <thead>\n",
       "    <tr style=\"text-align: right;\">\n",
       "      <th></th>\n",
       "      <th>Data</th>\n",
       "      <th>Goleador</th>\n",
       "      <th>Assisntente</th>\n",
       "      <th>Minuto</th>\n",
       "      <th>Placar</th>\n",
       "      <th>Tipo de Gol</th>\n",
       "    </tr>\n",
       "  </thead>\n",
       "  <tbody>\n",
       "    <tr>\n",
       "      <th>0</th>\n",
       "      <td>2023-03-14</td>\n",
       "      <td>Thomas</td>\n",
       "      <td>Wagner</td>\n",
       "      <td>2</td>\n",
       "      <td>1x0</td>\n",
       "      <td>Gol Desempate</td>\n",
       "    </tr>\n",
       "    <tr>\n",
       "      <th>1</th>\n",
       "      <td>2023-03-14</td>\n",
       "      <td>Wagner</td>\n",
       "      <td>Thomas</td>\n",
       "      <td>7</td>\n",
       "      <td>2x0</td>\n",
       "      <td>Gol Vantagem</td>\n",
       "    </tr>\n",
       "    <tr>\n",
       "      <th>2</th>\n",
       "      <td>2023-03-14</td>\n",
       "      <td>Gol Contra</td>\n",
       "      <td>-</td>\n",
       "      <td>9</td>\n",
       "      <td>2x1</td>\n",
       "      <td>Gol Desconto</td>\n",
       "    </tr>\n",
       "    <tr>\n",
       "      <th>3</th>\n",
       "      <td>2023-03-14</td>\n",
       "      <td>Wagner</td>\n",
       "      <td>Pietro</td>\n",
       "      <td>10</td>\n",
       "      <td>3x1</td>\n",
       "      <td>Gol Vantagem</td>\n",
       "    </tr>\n",
       "    <tr>\n",
       "      <th>4</th>\n",
       "      <td>2023-03-14</td>\n",
       "      <td>Pietro</td>\n",
       "      <td>Thomas</td>\n",
       "      <td>17</td>\n",
       "      <td>4x1</td>\n",
       "      <td>Gol Vantagem</td>\n",
       "    </tr>\n",
       "    <tr>\n",
       "      <th>...</th>\n",
       "      <td>...</td>\n",
       "      <td>...</td>\n",
       "      <td>...</td>\n",
       "      <td>...</td>\n",
       "      <td>...</td>\n",
       "      <td>...</td>\n",
       "    </tr>\n",
       "    <tr>\n",
       "      <th>238</th>\n",
       "      <td>2023-04-29</td>\n",
       "      <td>Therri</td>\n",
       "      <td>-</td>\n",
       "      <td>52</td>\n",
       "      <td>7-9</td>\n",
       "      <td>Gol Vantagem</td>\n",
       "    </tr>\n",
       "    <tr>\n",
       "      <th>239</th>\n",
       "      <td>2023-04-29</td>\n",
       "      <td>Guerra</td>\n",
       "      <td>-</td>\n",
       "      <td>55</td>\n",
       "      <td>7-10</td>\n",
       "      <td>Gol Vantagem</td>\n",
       "    </tr>\n",
       "    <tr>\n",
       "      <th>240</th>\n",
       "      <td>2023-04-29</td>\n",
       "      <td>Zé</td>\n",
       "      <td>Guerra</td>\n",
       "      <td>59</td>\n",
       "      <td>7-11</td>\n",
       "      <td>Gol Vantagem</td>\n",
       "    </tr>\n",
       "    <tr>\n",
       "      <th>241</th>\n",
       "      <td>2023-04-29</td>\n",
       "      <td>Evandro</td>\n",
       "      <td>Zé</td>\n",
       "      <td>62</td>\n",
       "      <td>7-12</td>\n",
       "      <td>Gol Vantagem</td>\n",
       "    </tr>\n",
       "    <tr>\n",
       "      <th>242</th>\n",
       "      <td>2023-04-29</td>\n",
       "      <td>Marcos</td>\n",
       "      <td>-</td>\n",
       "      <td>62</td>\n",
       "      <td>8-12</td>\n",
       "      <td>Gol Desconto</td>\n",
       "    </tr>\n",
       "  </tbody>\n",
       "</table>\n",
       "<p>243 rows × 6 columns</p>\n",
       "</div>"
      ],
      "text/plain": [
       "          Data    Goleador Assisntente  Minuto Placar    Tipo de Gol\n",
       "0   2023-03-14      Thomas      Wagner       2    1x0  Gol Desempate\n",
       "1   2023-03-14      Wagner      Thomas       7    2x0   Gol Vantagem\n",
       "2   2023-03-14  Gol Contra           -       9    2x1   Gol Desconto\n",
       "3   2023-03-14      Wagner      Pietro      10    3x1   Gol Vantagem\n",
       "4   2023-03-14      Pietro      Thomas      17    4x1   Gol Vantagem\n",
       "..         ...         ...         ...     ...    ...            ...\n",
       "238 2023-04-29      Therri           -      52    7-9   Gol Vantagem\n",
       "239 2023-04-29      Guerra           -      55   7-10   Gol Vantagem\n",
       "240 2023-04-29          Zé      Guerra      59   7-11   Gol Vantagem\n",
       "241 2023-04-29     Evandro          Zé      62   7-12   Gol Vantagem\n",
       "242 2023-04-29      Marcos           -      62   8-12   Gol Desconto\n",
       "\n",
       "[243 rows x 6 columns]"
      ]
     },
     "execution_count": 69,
     "metadata": {},
     "output_type": "execute_result"
    }
   ],
   "source": [
    "df"
   ]
  },
  {
   "cell_type": "code",
   "execution_count": 66,
   "id": "6bf6f7a9",
   "metadata": {},
   "outputs": [],
   "source": [
    "df = df.rename(columns={'Gol  Desempate': 'Gol Desempate'})"
   ]
  },
  {
   "cell_type": "code",
   "execution_count": 67,
   "id": "892adee3",
   "metadata": {},
   "outputs": [],
   "source": [
    "df.loc[df['Gol Empate'] == 1, \"Tipo de Gol\"] = \"Gol Empate\"\n",
    "df.loc[df['Gol Desconto'] == 1, \"Tipo de Gol\"] = \"Gol Desconto\"\n",
    "df.loc[df['Gol Vantagem'] == 1, \"Tipo de Gol\"] = \"Gol Vantagem\"\n",
    "df.loc[df['Gol Desempate'] == 1, \"Tipo de Gol\"] = \"Gol Desempate\""
   ]
  },
  {
   "cell_type": "code",
   "execution_count": 68,
   "id": "f06bad8d",
   "metadata": {},
   "outputs": [],
   "source": [
    "df.drop(['Gol Empate', \"Gol Desempate\", \"Gol Vantagem\", \"Gol Desempate\", \"Gol Desconto\"], axis=1, inplace=True)"
   ]
  },
  {
   "cell_type": "code",
   "execution_count": null,
   "id": "b8948deb",
   "metadata": {},
   "outputs": [],
   "source": []
  },
  {
   "cell_type": "code",
   "execution_count": null,
   "id": "9ff079f4",
   "metadata": {},
   "outputs": [],
   "source": []
  }
 ],
 "metadata": {
  "kernelspec": {
   "display_name": "Python 3 (ipykernel)",
   "language": "python",
   "name": "python3"
  },
  "language_info": {
   "codemirror_mode": {
    "name": "ipython",
    "version": 3
   },
   "file_extension": ".py",
   "mimetype": "text/x-python",
   "name": "python",
   "nbconvert_exporter": "python",
   "pygments_lexer": "ipython3",
   "version": "3.9.12"
  }
 },
 "nbformat": 4,
 "nbformat_minor": 5
}
