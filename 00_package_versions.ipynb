{
 "cells": [
  {
   "cell_type": "markdown",
   "metadata": {},
   "source": [
    "# Versions of the main packages used in this project"
   ]
  },
  {
   "cell_type": "code",
   "execution_count": 1,
   "metadata": {
    "scrolled": true
   },
   "outputs": [
    {
     "name": "stdout",
     "output_type": "stream",
     "text": [
      "Versions of the packages:\n",
      "\n",
      "-------------------- | ----------\n",
      "      Package        |  Version  \n",
      "-------------------- | ----------\n",
      "Imbalanced-Learn     |     0.12.0\n",
      "Matplotlib           |      3.5.1\n",
      "NumPy                |     1.21.5\n",
      "Pandas               |      1.4.2\n",
      "Scikit-Learn         |      1.1.3\n",
      "Seaborn              |     0.11.2\n",
      "\n",
      "Python version: 3.9.12\n"
     ]
    }
   ],
   "source": [
    "import pandas as pd\n",
    "import matplotlib\n",
    "import seaborn as sns\n",
    "import numpy as np\n",
    "import sklearn\n",
    "import imblearn\n",
    "from platform import python_version\n",
    "\n",
    "packages = {\n",
    "    \"Pandas\": pd,\n",
    "    \"Matplotlib\": matplotlib,\n",
    "    \"Seaborn\": sns,\n",
    "    \"NumPy\": np,\n",
    "    \"Scikit-Learn\": sklearn,\n",
    "    \"Imbalanced-Learn\": imblearn,\n",
    "}\n",
    "\n",
    "print(\"Versions of the packages:\\n\")\n",
    "print(f\"{'':-^20} | {'':-^10}\")\n",
    "print(f\"{'Package':^20} | {'Version':^10}\")\n",
    "print(f\"{'':-^20} | {'':-^10}\")\n",
    "\n",
    "for name, package in sorted(packages.items()):\n",
    "    print(f\"{name:<20} | {package.__version__:>10}\")\n",
    "\n",
    "print()\n",
    "print(f\"Python version: {python_version()}\")"
   ]
  },
  {
   "cell_type": "markdown",
   "metadata": {},
   "source": [
    "<div style=\"font-family: Montserrat; color:#02231C; background-color:#C7F6EC;\">\n",
    "\n",
    "## <p style=\"background-color:#02231C; font-family:Montserrat; color:#55D9C0; font-size:150%; text-align:left; margin-bottom: -5px; padding-left: 75px;\"><strong>2. OBJECTIVE</strong></p>\n",
    "    \n",
    "    \n",
    "    \n",
    "- **Testando**"
   ]
  },
  {
   "cell_type": "markdown",
   "metadata": {},
   "source": [
    "<div style=\"font-family: Montserrat; color:#02231C; background-color:#C7F6EC;\">\n",
    "\n",
    "## <p style=\"background-color:#02231C; font-family:Montserrat; color:#55D9C0; font-size:150%; text-align:left; margin-bottom: 5px; padding-left: 75px;\"><strong>2. OBJECTIVE</strong></p>\n",
    "    \n",
    "    \n",
    "    \n",
    "- **Testando**\n",
    "- **Testando**\n",
    "- **Testando**"
   ]
  },
  {
   "cell_type": "markdown",
   "metadata": {},
   "source": [
    "<div style=\"font-family: Montserrat; color:#02231C; background-color:#C7F6EC;\">\n",
    "    \n",
    "<p style=\"background-color:#02231C; font-family:Montserrat; font-size:115%; text-align:left; border-radius:0px 10px 10px 0px; padding-left: 50px; width: 50%;\"><strong><span style=\"color:#55D9C0\">Dtype, Unique and Null</span></strong></p>\n",
    "    \n",
    "- Teste"
   ]
  },
  {
   "cell_type": "code",
   "execution_count": null,
   "metadata": {},
   "outputs": [],
   "source": []
  }
 ],
 "metadata": {
  "kernelspec": {
   "display_name": "Python 3 (ipykernel)",
   "language": "python",
   "name": "python3"
  },
  "language_info": {
   "codemirror_mode": {
    "name": "ipython",
    "version": 3
   },
   "file_extension": ".py",
   "mimetype": "text/x-python",
   "name": "python",
   "nbconvert_exporter": "python",
   "pygments_lexer": "ipython3",
   "version": "3.9.12"
  }
 },
 "nbformat": 4,
 "nbformat_minor": 4
}
